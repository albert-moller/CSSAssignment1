{
 "cells": [
  {
   "cell_type": "markdown",
   "metadata": {},
   "source": [
    "Link to github: https://github.com/albert-moller/CSSAssignment1.git\n",
    "\n",
    "Group members: Albert Frisch Møller (s214610) and Mark Andrawes (s214654)\n",
    "\n",
    "For this assignment each group member contributed equally to every aspect of the assignment"
   ]
  },
  {
   "cell_type": "markdown",
   "metadata": {},
   "source": [
    "### Assignment 1"
   ]
  },
  {
   "cell_type": "markdown",
   "metadata": {},
   "source": [
    "#### Part 1: Web-Scraping"
   ]
  },
  {
   "cell_type": "code",
   "execution_count": 1,
   "metadata": {},
   "outputs": [],
   "source": [
    "#Importing necessary Web Scraping and Data Storage packages\n",
    "from bs4 import BeautifulSoup\n",
    "import requests\n",
    "import pandas as pd\n",
    "import re\n",
    "import os\n",
    "from tqdm import tqdm\n",
    "from joblib import Parallel, delayed\n",
    "import networkx as nx\n",
    "import json\n",
    "\n",
    "if not os.path.exists(\"./data\"):\n",
    "    os.mkdir(\"./data\")"
   ]
  },
  {
   "cell_type": "code",
   "execution_count": 2,
   "metadata": {},
   "outputs": [
    {
     "name": "stdout",
     "output_type": "stream",
     "text": [
      "The number of unique researchers is 1856\n"
     ]
    }
   ],
   "source": [
    "LINK = \"https://ic2s2-2023.org/program\"\n",
    "r = requests.get(LINK)\n",
    "soup = BeautifulSoup(r.content)\n",
    "researchers = []\n",
    "\n",
    "table_rows = soup.find_all(\"tr\")\n",
    "for row in table_rows:\n",
    "    for tag in row.find_all(\"a\"):\n",
    "        if re.search(\"Keynote\", tag.text):\n",
    "            string = tag.text\n",
    "            string = string.replace(\"Keynote - \", \"\")\n",
    "            string = string.strip()\n",
    "            researchers.append(string)\n",
    "\n",
    "plenaries = soup.find_all(class_='nav_list')\n",
    "\n",
    "for plenary in plenaries:\n",
    "    italic_names = plenary.find_all('i')\n",
    "    italic_names = [i.get_text() for i in italic_names]\n",
    "\n",
    "    for entry in italic_names:\n",
    "        speakers = entry.split(',')\n",
    "        for speaker in speakers:\n",
    "            name = speaker.strip()\n",
    "            if name not in researchers:\n",
    "                researchers.append(speaker)\n",
    "\n",
    "researchers_df = pd.DataFrame(researchers, columns=['Full Name'])\n",
    "researchers_df.to_csv('data/ics2_researchers.csv', index=False)\n",
    "\n",
    "print(f\"The number of unique researchers is {len(researchers_df)}\")"
   ]
  },
  {
   "cell_type": "markdown",
   "metadata": {},
   "source": [
    "#### How many unique researchers do you get?"
   ]
  },
  {
   "cell_type": "markdown",
   "metadata": {},
   "source": [
    "We obtained that there are 1856 unique researchers present at the International Conference in Computational Social Science for 2023"
   ]
  },
  {
   "cell_type": "markdown",
   "metadata": {},
   "source": [
    "##### Explain the process you followed to web-scrape the page. Which choices did you make to accurately retreive as many names as possible? Which strategies did you use to assess the quality of your final list? Explain your reasoning and your choices. (answer in max 150 words)"
   ]
  },
  {
   "cell_type": "markdown",
   "metadata": {},
   "source": [
    "To webscrape the IC2S2 2023 program page, we inspected the HTML structure to identify the elements containing researcher names. Using BeautifulSoup, we collected the table rows ('tr') to extract the names of the keynote speakers. Additionally, we collected each 'i' tag within each plenary (found in the class 'nav_list') which contained multiple names of participants - we split these names and appended each one to the list. Finally, we stored the data in a Pandas DataFrame and saved as csv.\n",
    "\n",
    "\n",
    "To retrieve the names accurately, we removed the 'Keynote -' prefix to cleanly retrieve the names of the keynote speakers. We used the '.strip()' function to remove any leading/trailing whitespace. This was done to ensure that we can accurately compare names when checking for duplicates. We assessed the quality by checking for duplicates by only adding new names to the list. This ensured the list only included unique participants.\n",
    "\n"
   ]
  }
 ],
 "metadata": {
  "kernelspec": {
   "display_name": "comsocsci2024",
   "language": "python",
   "name": "python3"
  },
  "language_info": {
   "codemirror_mode": {
    "name": "ipython",
    "version": 3
   },
   "file_extension": ".py",
   "mimetype": "text/x-python",
   "name": "python",
   "nbconvert_exporter": "python",
   "pygments_lexer": "ipython3",
   "version": "3.1.0"
  }
 },
 "nbformat": 4,
 "nbformat_minor": 2
}
